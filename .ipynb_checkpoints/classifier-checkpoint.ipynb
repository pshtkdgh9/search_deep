{
 "cells": [
  {
   "cell_type": "code",
   "execution_count": null,
   "id": "a0ff216d",
   "metadata": {},
   "outputs": [],
   "source": [
    "pip install tensorflow"
   ]
  },
  {
   "cell_type": "code",
   "execution_count": 1,
   "id": "b72082a1",
   "metadata": {
    "scrolled": true
   },
   "outputs": [],
   "source": [
    "import numpy as np\n",
    "import pandas as pd\n",
    "import keras\n",
    "import tensorflow as tf\n",
    "\n",
    "df = pd.read_csv('./bigdata_num.csv', encoding=\"utf-8-sig\")"
   ]
  },
  {
   "cell_type": "code",
   "execution_count": 2,
   "id": "b60459d0",
   "metadata": {},
   "outputs": [],
   "source": [
    "def relu(x):\n",
    "    return np.maximum(0,x)"
   ]
  },
  {
   "cell_type": "code",
   "execution_count": 3,
   "id": "129aa51e",
   "metadata": {},
   "outputs": [],
   "source": [
    "import numpy as np  \n",
    "import csv\n",
    "\n",
    "# 실험 결과를 재현하기 위해 난수 발생패턴을 고정시키는 np.random.seed()함수값을 설정\n",
    "np.random.seed(333)"
   ]
  },
  {
   "cell_type": "code",
   "execution_count": 4,
   "id": "9bdfb974",
   "metadata": {},
   "outputs": [],
   "source": [
    "RND_MEAN = 0  # 평균\n",
    "RND_STD = 0.003  # 표준편차\n",
    "Learning_rate = 0.003  # 학습률"
   ]
  },
  {
   "cell_type": "code",
   "execution_count": 5,
   "id": "005f0268",
   "metadata": {},
   "outputs": [],
   "source": [
    "def binary_classification_exec(epoch_count=10, mb_size=10, report=1,train_rate = 0.8):\n",
    "    binary_load_dataset()\n",
    "    init_model()\n",
    "    train_and_test(epoch_count, mb_size, report, train_rate)"
   ]
  },
  {
   "cell_type": "code",
   "execution_count": 6,
   "id": "4e920942",
   "metadata": {},
   "outputs": [],
   "source": [
    "# 데이터 받기 > 버퍼로 옮겨주기 > np.array()로 감싸주기\n",
    "def binary_load_dataset():\n",
    "    with open('./bigdata_num.csv', encoding=\"utf-8-sig\") as csvfile:\n",
    "        csvreader = csv.reader(csvfile)\n",
    "        next(csvreader, None)\n",
    "        rows = []\n",
    "        for row in csvreader:\n",
    "            rows.append(row)\n",
    "            \n",
    "    global data, input_cnt, output_cnt\n",
    "    input_cnt, output_cnt = 8, 1  # 독립변수, 종속변수독립변수, 종속변수\n",
    "    data = np.asarray(rows, dtype='float32') # 배열 구조로 변환하는 과정"
   ]
  },
  {
   "cell_type": "code",
   "execution_count": 7,
   "id": "7e897281",
   "metadata": {},
   "outputs": [],
   "source": [
    "def init_model():\n",
    "    global weight, bias, input_cnt, output_cnt\n",
    "    weight = np.random.normal(RND_MEAN, RND_STD,[input_cnt, output_cnt])  \n",
    "    # normal 메서드 :  (mean, sd, shape)\n",
    "    \n",
    "    bias = np.zeros([output_cnt])\n",
    "    # weight 가중치 행렬은 [8,1] , bias 편향 벡터는 [1]형태"
   ]
  },
  {
   "cell_type": "code",
   "execution_count": 8,
   "id": "95367770",
   "metadata": {},
   "outputs": [],
   "source": [
    "def train_and_test(epoch_count, mb_size, report, train_rate):\n",
    "    step_count = arrange_data(mb_size, train_rate)\n",
    "    test_x, test_y = get_test_data()\n",
    "\n",
    "    for epoch in range(epoch_count):\n",
    "        losses, accs = [], []\n",
    "\n",
    "        for n in range(step_count):\n",
    "            train_x, train_y = get_train_data(mb_size, n)\n",
    "            loss, acc = run_train(train_x, train_y)\n",
    "            losses.append(loss)\n",
    "            accs.append(acc)\n",
    "\n",
    "        if report > 0 and (epoch + 1) % report == 0:\n",
    "            acc = run_test(test_x, test_y)\n",
    "            print(f'Epoch {epoch+1}: loss={np.mean(losses):5.3f}, accuracy={np.mean(accs):5.3f}/{acc:5.3f}')\n",
    "            \n",
    "    final_acc = run_test(test_x, test_y)\n",
    "    print(f'\\nFinal Test: final accuracy = {final_acc:5.3f}')"
   ]
  },
  {
   "cell_type": "code",
   "execution_count": 9,
   "id": "0776a906",
   "metadata": {},
   "outputs": [],
   "source": [
    "def arrange_data(mb_size, train_rate):\n",
    "    global data, shuffle_map, test_begin_idx\n",
    "\n",
    "    shuffle_map = np.arange(data.shape[0])\n",
    "    np.random.shuffle(shuffle_map)\n",
    "\n",
    "    step_count = int(data.shape[0] * train_rate) // mb_size\n",
    "\n",
    "    test_begin_idx = step_count * mb_size\n",
    "\n",
    "    return step_count\n",
    "\n",
    "\n",
    "def get_test_data():\n",
    "    global data, shuffle_map, test_begin_idx, output_cnt\n",
    "\n",
    "    test_data = data[shuffle_map[test_begin_idx:]]\n",
    "\n",
    "    return test_data[:, :-output_cnt], test_data[:, -output_cnt:]\n",
    "\n",
    "\n",
    "def get_train_data(mb_size, nth):\n",
    "    global data, shuffle_map, test_begin_idx, output_cnt\n",
    "\n",
    "    if nth == 0:\n",
    "        np.random.shuffle(shuffle_map[:test_begin_idx])\n",
    "\n",
    "    train_data = data[shuffle_map[mb_size * nth:mb_size * (nth + 1)]]\n",
    "\n",
    "    return train_data[:, :-output_cnt], train_data[:, -output_cnt:]\n",
    "    \n",
    "    \n",
    "def run_train(x, y):\n",
    "    output, aux_nn = forward_neuralnet(x)\n",
    "    loss, aux_pp = forward_postproc(output, y)\n",
    "    accuracy = eval_accuracy(output, y)\n",
    "\n",
    "    G_loss = 1.0\n",
    "    G_output = backprop_postproc(G_loss, aux_pp)\n",
    "    backprop_neuralnet(G_output, aux_nn)\n",
    "\n",
    "    return loss, accuracy\n",
    "\n",
    "\n",
    "def run_test(x, y):\n",
    "    output, _ = forward_neuralnet(x)\n",
    "    accuracy = eval_accuracy(output, y)\n",
    "    \n",
    "    return accuracy"
   ]
  },
  {
   "cell_type": "code",
   "execution_count": 10,
   "id": "ea8d20f3",
   "metadata": {},
   "outputs": [],
   "source": [
    "def forward_neuralnet(x):  \n",
    "    global weight, bias\n",
    "    output = np.matmul(x, weight) + bias  # y = xw + b\n",
    "    \n",
    "    return output, x"
   ]
  },
  {
   "cell_type": "code",
   "execution_count": 11,
   "id": "c8ee4bec",
   "metadata": {},
   "outputs": [],
   "source": [
    "def sigmoid_cross_entropy_with_logits(z, x):\n",
    "    return relu(x) - x * z + np.log(1 + np.exp(-np.abs(x)))"
   ]
  },
  {
   "cell_type": "code",
   "execution_count": 12,
   "id": "a7f302bc",
   "metadata": {},
   "outputs": [],
   "source": [
    "def backprop_neuralnet(G_output, x):  \n",
    "    global weight, bias\n",
    "    g_output_w = x.transpose()\n",
    "\n",
    "    G_w = np.matmul(g_output_w, G_output) \n",
    "    G_b = np.sum(G_output, axis=0)\n",
    "\n",
    "    weight -= LEARNING_RATE * G_w\n",
    "    bias -= LEARNING_RATE * G_b"
   ]
  },
  {
   "cell_type": "code",
   "execution_count": 13,
   "id": "f5fcc887",
   "metadata": {},
   "outputs": [],
   "source": [
    "def forward_postproc(output, y):\n",
    "    CEE = sigmoid_cross_entropy_with_logits(y, output)\n",
    "    loss = np.mean(CEE)\n",
    "\n",
    "    return loss, [y, output, CEE]"
   ]
  },
  {
   "cell_type": "code",
   "execution_count": 14,
   "id": "bbaf64e7",
   "metadata": {},
   "outputs": [],
   "source": [
    "def backprop_postproc(G_loss, aux):\n",
    "    y, output, entropy = aux\n",
    "    \n",
    "    g_loss_entropy = 1.0 / np.prod(entropy.shape)\n",
    "    g_entropy_output = sigmoid_cross_entropy_with_logits(y, output)    \n",
    "    \n",
    "    G_entropy = g_loss_entropy * G_loss\n",
    "    G_output = g_entropy_output * G_entropy\n",
    "    \n",
    "    return G_output"
   ]
  },
  {
   "cell_type": "code",
   "execution_count": 15,
   "id": "2dc6119e",
   "metadata": {},
   "outputs": [],
   "source": [
    "def eval_accuracy(output, y):\n",
    "    estimate = np.greater(output, 0)\n",
    "    answer = np.greater(y, 0.5)\n",
    "    correct = np.equal(estimate, answer)\n",
    "\n",
    "    return np.mean(correct)"
   ]
  },
  {
   "cell_type": "code",
   "execution_count": 16,
   "id": "4fca52f7",
   "metadata": {},
   "outputs": [
    {
     "ename": "NameError",
     "evalue": "name 'sigmoid_cross_entropy_with_logits_derv' is not defined",
     "output_type": "error",
     "traceback": [
      "\u001b[1;31m---------------------------------------------------------------------------\u001b[0m",
      "\u001b[1;31mNameError\u001b[0m                                 Traceback (most recent call last)",
      "\u001b[1;32m~\\AppData\\Local\\Temp/ipykernel_18192/902851074.py\u001b[0m in \u001b[0;36m<module>\u001b[1;34m\u001b[0m\n\u001b[1;32m----> 1\u001b[1;33m \u001b[0mbinary_classification_exec\u001b[0m\u001b[1;33m(\u001b[0m\u001b[1;33m)\u001b[0m\u001b[1;33m\u001b[0m\u001b[1;33m\u001b[0m\u001b[0m\n\u001b[0m",
      "\u001b[1;32m~\\AppData\\Local\\Temp/ipykernel_18192/3839433358.py\u001b[0m in \u001b[0;36mbinary_classification_exec\u001b[1;34m(epoch_count, mb_size, report, train_rate)\u001b[0m\n\u001b[0;32m      2\u001b[0m     \u001b[0mbinary_load_dataset\u001b[0m\u001b[1;33m(\u001b[0m\u001b[1;33m)\u001b[0m\u001b[1;33m\u001b[0m\u001b[1;33m\u001b[0m\u001b[0m\n\u001b[0;32m      3\u001b[0m     \u001b[0minit_model\u001b[0m\u001b[1;33m(\u001b[0m\u001b[1;33m)\u001b[0m\u001b[1;33m\u001b[0m\u001b[1;33m\u001b[0m\u001b[0m\n\u001b[1;32m----> 4\u001b[1;33m     \u001b[0mtrain_and_test\u001b[0m\u001b[1;33m(\u001b[0m\u001b[0mepoch_count\u001b[0m\u001b[1;33m,\u001b[0m \u001b[0mmb_size\u001b[0m\u001b[1;33m,\u001b[0m \u001b[0mreport\u001b[0m\u001b[1;33m,\u001b[0m \u001b[0mtrain_rate\u001b[0m\u001b[1;33m)\u001b[0m\u001b[1;33m\u001b[0m\u001b[1;33m\u001b[0m\u001b[0m\n\u001b[0m",
      "\u001b[1;32m~\\AppData\\Local\\Temp/ipykernel_18192/822894737.py\u001b[0m in \u001b[0;36mtrain_and_test\u001b[1;34m(epoch_count, mb_size, report, train_rate)\u001b[0m\n\u001b[0;32m      8\u001b[0m         \u001b[1;32mfor\u001b[0m \u001b[0mn\u001b[0m \u001b[1;32min\u001b[0m \u001b[0mrange\u001b[0m\u001b[1;33m(\u001b[0m\u001b[0mstep_count\u001b[0m\u001b[1;33m)\u001b[0m\u001b[1;33m:\u001b[0m\u001b[1;33m\u001b[0m\u001b[1;33m\u001b[0m\u001b[0m\n\u001b[0;32m      9\u001b[0m             \u001b[0mtrain_x\u001b[0m\u001b[1;33m,\u001b[0m \u001b[0mtrain_y\u001b[0m \u001b[1;33m=\u001b[0m \u001b[0mget_train_data\u001b[0m\u001b[1;33m(\u001b[0m\u001b[0mmb_size\u001b[0m\u001b[1;33m,\u001b[0m \u001b[0mn\u001b[0m\u001b[1;33m)\u001b[0m\u001b[1;33m\u001b[0m\u001b[1;33m\u001b[0m\u001b[0m\n\u001b[1;32m---> 10\u001b[1;33m             \u001b[0mloss\u001b[0m\u001b[1;33m,\u001b[0m \u001b[0macc\u001b[0m \u001b[1;33m=\u001b[0m \u001b[0mrun_train\u001b[0m\u001b[1;33m(\u001b[0m\u001b[0mtrain_x\u001b[0m\u001b[1;33m,\u001b[0m \u001b[0mtrain_y\u001b[0m\u001b[1;33m)\u001b[0m\u001b[1;33m\u001b[0m\u001b[1;33m\u001b[0m\u001b[0m\n\u001b[0m\u001b[0;32m     11\u001b[0m             \u001b[0mlosses\u001b[0m\u001b[1;33m.\u001b[0m\u001b[0mappend\u001b[0m\u001b[1;33m(\u001b[0m\u001b[0mloss\u001b[0m\u001b[1;33m)\u001b[0m\u001b[1;33m\u001b[0m\u001b[1;33m\u001b[0m\u001b[0m\n\u001b[0;32m     12\u001b[0m             \u001b[0maccs\u001b[0m\u001b[1;33m.\u001b[0m\u001b[0mappend\u001b[0m\u001b[1;33m(\u001b[0m\u001b[0macc\u001b[0m\u001b[1;33m)\u001b[0m\u001b[1;33m\u001b[0m\u001b[1;33m\u001b[0m\u001b[0m\n",
      "\u001b[1;32m~\\AppData\\Local\\Temp/ipykernel_18192/1670134726.py\u001b[0m in \u001b[0;36mrun_train\u001b[1;34m(x, y)\u001b[0m\n\u001b[0;32m     37\u001b[0m \u001b[1;33m\u001b[0m\u001b[0m\n\u001b[0;32m     38\u001b[0m     \u001b[0mG_loss\u001b[0m \u001b[1;33m=\u001b[0m \u001b[1;36m1.0\u001b[0m\u001b[1;33m\u001b[0m\u001b[1;33m\u001b[0m\u001b[0m\n\u001b[1;32m---> 39\u001b[1;33m     \u001b[0mG_output\u001b[0m \u001b[1;33m=\u001b[0m \u001b[0mbackprop_postproc\u001b[0m\u001b[1;33m(\u001b[0m\u001b[0mG_loss\u001b[0m\u001b[1;33m,\u001b[0m \u001b[0maux_pp\u001b[0m\u001b[1;33m)\u001b[0m\u001b[1;33m\u001b[0m\u001b[1;33m\u001b[0m\u001b[0m\n\u001b[0m\u001b[0;32m     40\u001b[0m     \u001b[0mbackprop_neuralnet\u001b[0m\u001b[1;33m(\u001b[0m\u001b[0mG_output\u001b[0m\u001b[1;33m,\u001b[0m \u001b[0maux_nn\u001b[0m\u001b[1;33m)\u001b[0m\u001b[1;33m\u001b[0m\u001b[1;33m\u001b[0m\u001b[0m\n\u001b[0;32m     41\u001b[0m \u001b[1;33m\u001b[0m\u001b[0m\n",
      "\u001b[1;32m~\\AppData\\Local\\Temp/ipykernel_18192/1934623264.py\u001b[0m in \u001b[0;36mbackprop_postproc\u001b[1;34m(G_loss, aux)\u001b[0m\n\u001b[0;32m      3\u001b[0m \u001b[1;33m\u001b[0m\u001b[0m\n\u001b[0;32m      4\u001b[0m     \u001b[0mg_loss_entropy\u001b[0m \u001b[1;33m=\u001b[0m \u001b[1;36m1.0\u001b[0m \u001b[1;33m/\u001b[0m \u001b[0mnp\u001b[0m\u001b[1;33m.\u001b[0m\u001b[0mprod\u001b[0m\u001b[1;33m(\u001b[0m\u001b[0mentropy\u001b[0m\u001b[1;33m.\u001b[0m\u001b[0mshape\u001b[0m\u001b[1;33m)\u001b[0m\u001b[1;33m\u001b[0m\u001b[1;33m\u001b[0m\u001b[0m\n\u001b[1;32m----> 5\u001b[1;33m     \u001b[0mg_entropy_output\u001b[0m \u001b[1;33m=\u001b[0m \u001b[0msigmoid_cross_entropy_with_logits_derv\u001b[0m\u001b[1;33m(\u001b[0m\u001b[0my\u001b[0m\u001b[1;33m,\u001b[0m \u001b[0moutput\u001b[0m\u001b[1;33m)\u001b[0m\u001b[1;33m\u001b[0m\u001b[1;33m\u001b[0m\u001b[0m\n\u001b[0m\u001b[0;32m      6\u001b[0m \u001b[1;33m\u001b[0m\u001b[0m\n\u001b[0;32m      7\u001b[0m     \u001b[0mG_entropy\u001b[0m \u001b[1;33m=\u001b[0m \u001b[0mg_loss_entropy\u001b[0m \u001b[1;33m*\u001b[0m \u001b[0mG_loss\u001b[0m\u001b[1;33m\u001b[0m\u001b[1;33m\u001b[0m\u001b[0m\n",
      "\u001b[1;31mNameError\u001b[0m: name 'sigmoid_cross_entropy_with_logits_derv' is not defined"
     ]
    }
   ],
   "source": [
    "binary_classification_exec()"
   ]
  },
  {
   "cell_type": "code",
   "execution_count": null,
   "id": "d6608cd5",
   "metadata": {},
   "outputs": [],
   "source": []
  },
  {
   "cell_type": "code",
   "execution_count": null,
   "id": "d9b5407e",
   "metadata": {},
   "outputs": [],
   "source": []
  },
  {
   "cell_type": "code",
   "execution_count": null,
   "id": "351c101e",
   "metadata": {},
   "outputs": [],
   "source": []
  },
  {
   "cell_type": "code",
   "execution_count": null,
   "id": "00742d81",
   "metadata": {},
   "outputs": [],
   "source": []
  }
 ],
 "metadata": {
  "kernelspec": {
   "display_name": "Python 3 (ipykernel)",
   "language": "python",
   "name": "python3"
  },
  "language_info": {
   "codemirror_mode": {
    "name": "ipython",
    "version": 3
   },
   "file_extension": ".py",
   "mimetype": "text/x-python",
   "name": "python",
   "nbconvert_exporter": "python",
   "pygments_lexer": "ipython3",
   "version": "3.9.7"
  }
 },
 "nbformat": 4,
 "nbformat_minor": 5
}
